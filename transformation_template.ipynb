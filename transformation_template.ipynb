{
 "cells": [
  {
   "cell_type": "code",
   "execution_count": null,
   "id": "8b79874d",
   "metadata": {},
   "outputs": [],
   "source": [
    "%pip install git+https://github.com/Open-Dataplatform/utils-databricks.git@v0.2.1"
   ]
  },
  {
   "cell_type": "code",
   "execution_count": null,
   "id": "d49ec40e",
   "metadata": {},
   "outputs": [],
   "source": [
    "import os\n",
    "from pyspark.sql.functions import col\n",
    "import pyspark.sql.functions as F\n",
    "\n",
    "from custom_utils.dp_storage.connector import mount, unmount_if_prod\n",
    "from custom_utils.dp_storage.writer import merge_and_upload"
   ]
  },
  {
   "cell_type": "markdown",
   "id": "7522a797",
   "metadata": {},
   "source": [
    "# Transformation"
   ]
  },
  {
   "cell_type": "markdown",
   "id": "e8041c2d",
   "metadata": {},
   "source": [
    "Setup"
   ]
  },
  {
   "cell_type": "code",
   "execution_count": null,
   "id": "674f0f20",
   "metadata": {},
   "outputs": [],
   "source": [
    "mount_point = mount(dbutils)\n",
    "\n",
    "# Create parameter widgets\n",
    "dbutils.widgets.text('IngressIdentifier', 'TODO: default_value', '')\n",
    "dbutils.widgets.text('EgressIdentifier', 'TODO: default_value', '')\n",
    "dbutils.widgets.text('DateKeyName', 'TODO: default_value', '')\n",
    "dbutils.widgets.text('DateFormat', 'TODO: default_value', '')\n",
    "dbutils.widgets.text('TimeResolution', 'TODO: default_value', '')\n",
    "dbutils.widgets.text('FilePath', 'TODO: default_value', '')\n",
    "dbutils.widgets.text('FullLoad', 'TODO: default_value', '')\n",
    "\n",
    "# Get parameters\n",
    "ingress_identifier = dbutils.widgets.get('IngressIdentifier')\n",
    "egress_identifier = dbutils.widgets.get('EgressIdentifier')\n",
    "date_key_name = dbutils.widgets.get('DateKeyName')\n",
    "date_format = dbutils.widgets.get('DateFormat')\n",
    "time_resolution = dbutils.widgets.get('TimeResolution')\n",
    "file_path = dbutils.widgets.get('FilePath')\n",
    "is_full_load = dbutils.widgets.get('FullLoad')\n",
    "\n",
    "# Define key columns\n",
    "index_columns = [date_key_name, 'TODO: Add all key columns']"
   ]
  },
  {
   "cell_type": "markdown",
   "id": "a1422d9b",
   "metadata": {},
   "source": [
    "## Read\n",
    "Reads data from storage"
   ]
  },
  {
   "cell_type": "code",
   "execution_count": null,
   "id": "0bdb501b",
   "metadata": {},
   "outputs": [],
   "source": [
    "source_path = os.path.join(mount_point, file_path)\n",
    "\n",
    "df = spark.read.parquet(source_path)\n",
    "# df = spark.read.option(\"delimiter\", \",\").csv(source_path, header=True)"
   ]
  },
  {
   "cell_type": "code",
   "execution_count": null,
   "id": "a5156013",
   "metadata": {},
   "outputs": [],
   "source": [
    "df.show(3)"
   ]
  },
  {
   "cell_type": "markdown",
   "id": "b159ffa9",
   "metadata": {},
   "source": [
    "## Transform"
   ]
  },
  {
   "cell_type": "markdown",
   "id": "2e0fa14e",
   "metadata": {},
   "source": [
    "Transform the data here. Follow this style guide: https://github.com/palantir/pyspark-style-guide"
   ]
  },
  {
   "cell_type": "code",
   "execution_count": null,
   "id": "e922f783",
   "metadata": {},
   "outputs": [],
   "source": []
  },
  {
   "cell_type": "markdown",
   "id": "edc6b0b6",
   "metadata": {},
   "source": [
    "## Merge and upload"
   ]
  },
  {
   "cell_type": "code",
   "execution_count": null,
   "id": "087cfdd3",
   "metadata": {},
   "outputs": [],
   "source": [
    "merge_and_upload(\n",
    "    df,\n",
    "    egress_identifier,\n",
    "    date_key_name,\n",
    "    index_columns,\n",
    "    time_resolution,\n",
    "    mount_point,\n",
    "    spark\n",
    ")"
   ]
  },
  {
   "cell_type": "code",
   "execution_count": null,
   "id": "4968fcc9",
   "metadata": {},
   "outputs": [],
   "source": [
    "# Always keep this at the end of your notebook\n",
    "unmount_if_prod(mount_point, dbutils)"
   ]
  }
 ],
 "metadata": {
  "kernelspec": {
   "display_name": "Python 3 (ipykernel)",
   "language": "python",
   "name": "python3"
  },
  "language_info": {
   "codemirror_mode": {
    "name": "ipython",
    "version": 3
   },
   "file_extension": ".py",
   "mimetype": "text/x-python",
   "name": "python",
   "nbconvert_exporter": "python",
   "pygments_lexer": "ipython3",
   "version": "3.8.10"
  }
 },
 "nbformat": 4,
 "nbformat_minor": 5
}
